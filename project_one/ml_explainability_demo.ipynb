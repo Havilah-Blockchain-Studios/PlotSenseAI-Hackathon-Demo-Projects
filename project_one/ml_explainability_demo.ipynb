{
 "cells": [
  {
   "cell_type": "code",
   "execution_count": null,
   "id": "e601230e",
   "metadata": {},
   "outputs": [
    {
     "name": "stdout",
     "output_type": "stream",
     "text": [
      "Requirement already satisfied: ucimlrepo in c:\\users\\user\\appdata\\local\\packages\\pythonsoftwarefoundation.python.3.11_qbz5n2kfra8p0\\localcache\\local-packages\\python311\\site-packages (0.0.7)\n",
      "Requirement already satisfied: scikit-learn in c:\\users\\user\\appdata\\local\\packages\\pythonsoftwarefoundation.python.3.11_qbz5n2kfra8p0\\localcache\\local-packages\\python311\\site-packages (1.7.2)\n",
      "Requirement already satisfied: pandas in c:\\users\\user\\appdata\\local\\packages\\pythonsoftwarefoundation.python.3.11_qbz5n2kfra8p0\\localcache\\local-packages\\python311\\site-packages (2.3.2)\n",
      "Requirement already satisfied: matplotlib in c:\\users\\user\\appdata\\local\\packages\\pythonsoftwarefoundation.python.3.11_qbz5n2kfra8p0\\localcache\\local-packages\\python311\\site-packages (3.10.6)\n",
      "Requirement already satisfied: plotsense in c:\\users\\user\\appdata\\local\\packages\\pythonsoftwarefoundation.python.3.11_qbz5n2kfra8p0\\localcache\\local-packages\\python311\\site-packages (0.1.3)\n",
      "Requirement already satisfied: certifi>=2020.12.5 in c:\\users\\user\\appdata\\local\\packages\\pythonsoftwarefoundation.python.3.11_qbz5n2kfra8p0\\localcache\\local-packages\\python311\\site-packages (from ucimlrepo) (2025.8.3)\n",
      "Requirement already satisfied: numpy>=1.22.0 in c:\\users\\user\\appdata\\local\\packages\\pythonsoftwarefoundation.python.3.11_qbz5n2kfra8p0\\localcache\\local-packages\\python311\\site-packages (from scikit-learn) (2.3.3)\n",
      "Requirement already satisfied: scipy>=1.8.0 in c:\\users\\user\\appdata\\local\\packages\\pythonsoftwarefoundation.python.3.11_qbz5n2kfra8p0\\localcache\\local-packages\\python311\\site-packages (from scikit-learn) (1.16.2)\n",
      "Requirement already satisfied: joblib>=1.2.0 in c:\\users\\user\\appdata\\local\\packages\\pythonsoftwarefoundation.python.3.11_qbz5n2kfra8p0\\localcache\\local-packages\\python311\\site-packages (from scikit-learn) (1.5.2)\n",
      "Requirement already satisfied: threadpoolctl>=3.1.0 in c:\\users\\user\\appdata\\local\\packages\\pythonsoftwarefoundation.python.3.11_qbz5n2kfra8p0\\localcache\\local-packages\\python311\\site-packages (from scikit-learn) (3.6.0)\n",
      "Requirement already satisfied: python-dateutil>=2.8.2 in c:\\users\\user\\appdata\\local\\packages\\pythonsoftwarefoundation.python.3.11_qbz5n2kfra8p0\\localcache\\local-packages\\python311\\site-packages (from pandas) (2.9.0.post0)\n",
      "Requirement already satisfied: pytz>=2020.1 in c:\\users\\user\\appdata\\local\\packages\\pythonsoftwarefoundation.python.3.11_qbz5n2kfra8p0\\localcache\\local-packages\\python311\\site-packages (from pandas) (2025.2)\n",
      "Requirement already satisfied: tzdata>=2022.7 in c:\\users\\user\\appdata\\local\\packages\\pythonsoftwarefoundation.python.3.11_qbz5n2kfra8p0\\localcache\\local-packages\\python311\\site-packages (from pandas) (2025.2)\n",
      "Requirement already satisfied: contourpy>=1.0.1 in c:\\users\\user\\appdata\\local\\packages\\pythonsoftwarefoundation.python.3.11_qbz5n2kfra8p0\\localcache\\local-packages\\python311\\site-packages (from matplotlib) (1.3.3)\n",
      "Requirement already satisfied: cycler>=0.10 in c:\\users\\user\\appdata\\local\\packages\\pythonsoftwarefoundation.python.3.11_qbz5n2kfra8p0\\localcache\\local-packages\\python311\\site-packages (from matplotlib) (0.12.1)\n",
      "Requirement already satisfied: fonttools>=4.22.0 in c:\\users\\user\\appdata\\local\\packages\\pythonsoftwarefoundation.python.3.11_qbz5n2kfra8p0\\localcache\\local-packages\\python311\\site-packages (from matplotlib) (4.59.2)\n",
      "Requirement already satisfied: kiwisolver>=1.3.1 in c:\\users\\user\\appdata\\local\\packages\\pythonsoftwarefoundation.python.3.11_qbz5n2kfra8p0\\localcache\\local-packages\\python311\\site-packages (from matplotlib) (1.4.9)\n",
      "Requirement already satisfied: packaging>=20.0 in c:\\users\\user\\appdata\\local\\packages\\pythonsoftwarefoundation.python.3.11_qbz5n2kfra8p0\\localcache\\local-packages\\python311\\site-packages (from matplotlib) (25.0)\n",
      "Requirement already satisfied: pillow>=8 in c:\\users\\user\\appdata\\local\\packages\\pythonsoftwarefoundation.python.3.11_qbz5n2kfra8p0\\localcache\\local-packages\\python311\\site-packages (from matplotlib) (11.3.0)\n",
      "Requirement already satisfied: pyparsing>=2.3.1 in c:\\users\\user\\appdata\\local\\packages\\pythonsoftwarefoundation.python.3.11_qbz5n2kfra8p0\\localcache\\local-packages\\python311\\site-packages (from matplotlib) (3.2.4)\n",
      "Requirement already satisfied: seaborn>=0.11 in c:\\users\\user\\appdata\\local\\packages\\pythonsoftwarefoundation.python.3.11_qbz5n2kfra8p0\\localcache\\local-packages\\python311\\site-packages (from plotsense) (0.13.2)\n",
      "Requirement already satisfied: python-dotenv in c:\\users\\user\\appdata\\local\\packages\\pythonsoftwarefoundation.python.3.11_qbz5n2kfra8p0\\localcache\\local-packages\\python311\\site-packages (from plotsense) (1.1.1)\n",
      "Requirement already satisfied: groq in c:\\users\\user\\appdata\\local\\packages\\pythonsoftwarefoundation.python.3.11_qbz5n2kfra8p0\\localcache\\local-packages\\python311\\site-packages (from plotsense) (0.31.1)\n",
      "Requirement already satisfied: requests in c:\\users\\user\\appdata\\local\\packages\\pythonsoftwarefoundation.python.3.11_qbz5n2kfra8p0\\localcache\\local-packages\\python311\\site-packages (from plotsense) (2.32.5)\n",
      "Requirement already satisfied: six>=1.5 in c:\\users\\user\\appdata\\local\\packages\\pythonsoftwarefoundation.python.3.11_qbz5n2kfra8p0\\localcache\\local-packages\\python311\\site-packages (from python-dateutil>=2.8.2->pandas) (1.17.0)\n",
      "Requirement already satisfied: anyio<5,>=3.5.0 in c:\\users\\user\\appdata\\local\\packages\\pythonsoftwarefoundation.python.3.11_qbz5n2kfra8p0\\localcache\\local-packages\\python311\\site-packages (from groq->plotsense) (4.10.0)\n",
      "Requirement already satisfied: distro<2,>=1.7.0 in c:\\users\\user\\appdata\\local\\packages\\pythonsoftwarefoundation.python.3.11_qbz5n2kfra8p0\\localcache\\local-packages\\python311\\site-packages (from groq->plotsense) (1.9.0)\n",
      "Requirement already satisfied: httpx<1,>=0.23.0 in c:\\users\\user\\appdata\\local\\packages\\pythonsoftwarefoundation.python.3.11_qbz5n2kfra8p0\\localcache\\local-packages\\python311\\site-packages (from groq->plotsense) (0.28.1)\n",
      "Requirement already satisfied: pydantic<3,>=1.9.0 in c:\\users\\user\\appdata\\local\\packages\\pythonsoftwarefoundation.python.3.11_qbz5n2kfra8p0\\localcache\\local-packages\\python311\\site-packages (from groq->plotsense) (2.11.9)\n",
      "Requirement already satisfied: sniffio in c:\\users\\user\\appdata\\local\\packages\\pythonsoftwarefoundation.python.3.11_qbz5n2kfra8p0\\localcache\\local-packages\\python311\\site-packages (from groq->plotsense) (1.3.1)\n",
      "Requirement already satisfied: typing-extensions<5,>=4.10 in c:\\users\\user\\appdata\\local\\packages\\pythonsoftwarefoundation.python.3.11_qbz5n2kfra8p0\\localcache\\local-packages\\python311\\site-packages (from groq->plotsense) (4.15.0)\n",
      "Requirement already satisfied: idna>=2.8 in c:\\users\\user\\appdata\\local\\packages\\pythonsoftwarefoundation.python.3.11_qbz5n2kfra8p0\\localcache\\local-packages\\python311\\site-packages (from anyio<5,>=3.5.0->groq->plotsense) (3.10)\n",
      "Requirement already satisfied: httpcore==1.* in c:\\users\\user\\appdata\\local\\packages\\pythonsoftwarefoundation.python.3.11_qbz5n2kfra8p0\\localcache\\local-packages\\python311\\site-packages (from httpx<1,>=0.23.0->groq->plotsense) (1.0.9)\n",
      "Requirement already satisfied: h11>=0.16 in c:\\users\\user\\appdata\\local\\packages\\pythonsoftwarefoundation.python.3.11_qbz5n2kfra8p0\\localcache\\local-packages\\python311\\site-packages (from httpcore==1.*->httpx<1,>=0.23.0->groq->plotsense) (0.16.0)\n",
      "Requirement already satisfied: annotated-types>=0.6.0 in c:\\users\\user\\appdata\\local\\packages\\pythonsoftwarefoundation.python.3.11_qbz5n2kfra8p0\\localcache\\local-packages\\python311\\site-packages (from pydantic<3,>=1.9.0->groq->plotsense) (0.7.0)\n",
      "Requirement already satisfied: pydantic-core==2.33.2 in c:\\users\\user\\appdata\\local\\packages\\pythonsoftwarefoundation.python.3.11_qbz5n2kfra8p0\\localcache\\local-packages\\python311\\site-packages (from pydantic<3,>=1.9.0->groq->plotsense) (2.33.2)\n",
      "Requirement already satisfied: typing-inspection>=0.4.0 in c:\\users\\user\\appdata\\local\\packages\\pythonsoftwarefoundation.python.3.11_qbz5n2kfra8p0\\localcache\\local-packages\\python311\\site-packages (from pydantic<3,>=1.9.0->groq->plotsense) (0.4.1)\n",
      "Requirement already satisfied: charset_normalizer<4,>=2 in c:\\users\\user\\appdata\\local\\packages\\pythonsoftwarefoundation.python.3.11_qbz5n2kfra8p0\\localcache\\local-packages\\python311\\site-packages (from requests->plotsense) (3.4.3)\n",
      "Requirement already satisfied: urllib3<3,>=1.21.1 in c:\\users\\user\\appdata\\local\\packages\\pythonsoftwarefoundation.python.3.11_qbz5n2kfra8p0\\localcache\\local-packages\\python311\\site-packages (from requests->plotsense) (2.5.0)\n"
     ]
    }
   ],
   "source": [
    "# ==============================\n",
    "# Step 1: Environment Setup\n",
    "# ==============================\n",
    "# Install dependencies (run once per environment)\n",
    "!pip install plotsense ucimlrepo scikit-learn pandas matplotlib\n"
   ]
  },
  {
   "cell_type": "code",
   "execution_count": null,
   "id": "e39f4264",
   "metadata": {},
   "outputs": [],
   "source": [
    "\n",
    "# ==============================\n",
    "# Step 2: Imports\n",
    "# ==============================\n",
    "import pandas as pd\n",
    "import matplotlib.pyplot as plt\n",
    "from sklearn.model_selection import train_test_split\n",
    "from sklearn.ensemble import RandomForestClassifier\n",
    "from sklearn.metrics import accuracy_score\n",
    "\n",
    "import plotsense as ps\n",
    "from plotsense import recommender, plotgen, explainer\n",
    "from ucimlrepo import fetch_ucirepo\n"
   ]
  },
  {
   "cell_type": "code",
   "execution_count": 4,
   "id": "aa97e860",
   "metadata": {},
   "outputs": [
    {
     "name": "stdout",
     "output_type": "stream",
     "text": [
      "Raw Data Sample:\n",
      "     age menopause tumor-size inv-nodes node-caps  deg-malig breast  \\\n",
      "0  30-39   premeno      30-34       0-2        no          3   left   \n",
      "1  40-49   premeno      20-24       0-2        no          2  right   \n",
      "2  40-49   premeno      20-24       0-2        no          2   left   \n",
      "3  60-69      ge40      15-19       0-2        no          2  right   \n",
      "4  40-49   premeno        0-4       0-2        no          2  right   \n",
      "\n",
      "  breast-quad irradiat                 Class  \n",
      "0    left_low       no  no-recurrence-events  \n",
      "1    right_up       no  no-recurrence-events  \n",
      "2    left_low       no  no-recurrence-events  \n",
      "3     left_up       no  no-recurrence-events  \n",
      "4   right_low       no  no-recurrence-events  \n"
     ]
    }
   ],
   "source": [
    "# ==============================\n",
    "# Step 3: Load UCI Dataset\n",
    "# ==============================\n",
    "# Fetch Breast Cancer Recurrence dataset (UCI ID = 14)\n",
    "breast_cancer = fetch_ucirepo(id=14)\n",
    "\n",
    "# Extract features (X) and target (y)\n",
    "X_raw = breast_cancer.data.features\n",
    "y_raw = breast_cancer.data.targets\n",
    "\n",
    "# Combine into one DataFrame for easier processing\n",
    "df = pd.concat([X_raw, y_raw], axis=1)\n",
    "print(\"Raw Data Sample:\")\n",
    "print(df.head())"
   ]
  },
  {
   "cell_type": "code",
   "execution_count": 6,
   "id": "ae382d5c",
   "metadata": {},
   "outputs": [
    {
     "name": "stdout",
     "output_type": "stream",
     "text": [
      "Missing values per column:\n",
      " age            0\n",
      "menopause      0\n",
      "tumor-size     0\n",
      "inv-nodes      0\n",
      "node-caps      8\n",
      "deg-malig      0\n",
      "breast         0\n",
      "breast-quad    1\n",
      "irradiat       0\n",
      "Class          0\n",
      "dtype: int64\n",
      "Encoded Data Sample:\n",
      "   deg-malig  age_30-39  age_40-49  age_50-59  age_60-69  age_70-79  \\\n",
      "0          3       True      False      False      False      False   \n",
      "1          2      False       True      False      False      False   \n",
      "2          2      False       True      False      False      False   \n",
      "3          2      False      False      False       True      False   \n",
      "4          2      False       True      False      False      False   \n",
      "\n",
      "   menopause_lt40  menopause_premeno  tumor-size_14-Oct  tumor-size_15-19  \\\n",
      "0           False               True              False             False   \n",
      "1           False               True              False             False   \n",
      "2           False               True              False             False   \n",
      "3           False              False              False              True   \n",
      "4           False               True              False             False   \n",
      "\n",
      "   ...  inv-nodes_8-Jun  node-caps_yes  breast_right  breast-quad_left_low  \\\n",
      "0  ...            False          False         False                  True   \n",
      "1  ...            False          False          True                 False   \n",
      "2  ...            False          False         False                  True   \n",
      "3  ...            False          False          True                 False   \n",
      "4  ...            False          False          True                 False   \n",
      "\n",
      "   breast-quad_left_up  breast-quad_right_low  breast-quad_right_up  \\\n",
      "0                False                  False                 False   \n",
      "1                False                  False                  True   \n",
      "2                False                  False                 False   \n",
      "3                 True                  False                 False   \n",
      "4                False                   True                 False   \n",
      "\n",
      "   irradiat_yes  Class_recurrence-events  target  \n",
      "0         False                    False       0  \n",
      "1         False                    False       0  \n",
      "2         False                    False       0  \n",
      "3         False                    False       0  \n",
      "4         False                    False       0  \n",
      "\n",
      "[5 rows x 33 columns]\n"
     ]
    }
   ],
   "source": [
    "# ==============================\n",
    "# Step 4: Clean Dataset\n",
    "# ==============================\n",
    "# Check for missing values\n",
    "print(\"Missing values per column:\\n\", df.isnull().sum())\n",
    "\n",
    "# Encode categorical variables into numeric using one-hot encoding\n",
    "df_encoded = pd.get_dummies(df, drop_first=True)\n",
    "\n",
    "# Encode target column: recurrence-events = 1, no-recurrence-events = 0\n",
    "df_encoded[\"target\"] = df[\"Class\"].apply(lambda val: 1 if val == \"recurrence-events\" else 0)\n",
    "\n",
    "print(\"Encoded Data Sample:\")\n",
    "print(df_encoded.head())\n"
   ]
  },
  {
   "cell_type": "code",
   "execution_count": 7,
   "id": "7a224065",
   "metadata": {},
   "outputs": [
    {
     "name": "stdout",
     "output_type": "stream",
     "text": [
      "Train shape: (228, 32) Test shape: (58, 32)\n"
     ]
    }
   ],
   "source": [
    "# ==============================\n",
    "# Step 5: Split Data\n",
    "# ==============================\n",
    "X = df_encoded.drop(columns=[\"Class\", \"target\"], errors=\"ignore\")\n",
    "y = df_encoded[\"target\"]\n",
    "\n",
    "X_train, X_test, y_train, y_test = train_test_split(\n",
    "    X, y, test_size=0.2, random_state=42\n",
    ")\n",
    "\n",
    "print(\"Train shape:\", X_train.shape, \"Test shape:\", X_test.shape)"
   ]
  },
  {
   "cell_type": "code",
   "execution_count": null,
   "id": "3ac2f30b",
   "metadata": {},
   "outputs": [],
   "source": [
    "import os\n",
    "# Set GROQ_API_KEY environment variable\n",
    "os.environ['GROQ_API_KEY'] = ''"
   ]
  },
  {
   "cell_type": "code",
   "execution_count": 8,
   "id": "06056516",
   "metadata": {},
   "outputs": [
    {
     "name": "stdout",
     "output_type": "stream",
     "text": [
      "Model Accuracy: 1.0\n"
     ]
    }
   ],
   "source": [
    "# ==============================\n",
    "# Step 6: Train Model\n",
    "# ==============================\n",
    "# Using Random Forest as a baseline model\n",
    "model = RandomForestClassifier(random_state=42)\n",
    "model.fit(X_train, y_train)\n",
    "y_pred = model.predict(X_test)\n",
    "\n",
    "print(\"Model Accuracy:\", accuracy_score(y_test, y_pred))"
   ]
  },
  {
   "cell_type": "code",
   "execution_count": 9,
   "id": "afa0e66c",
   "metadata": {},
   "outputs": [
    {
     "name": "stdout",
     "output_type": "stream",
     "text": [
      "PlotSense Recommendations:\n",
      "  plot_type                                          variables  \\\n",
      "0      hist                                  deg-malig, target   \n",
      "1   scatter                 tumor-size_20-24, tumor-size_30-34   \n",
      "2       bar              Class_recurrence-events, irradiat_yes   \n",
      "3   boxplot  age_30-39, age_40-49, age_50-59, age_60-69, ag...   \n",
      "4   heatmap                                  deg-malig, target   \n",
      "\n",
      "   ensemble_score  model_agreement           source_models  \n",
      "0             0.5                1  [llama-3.1-8b-instant]  \n",
      "1             0.5                1  [llama-3.1-8b-instant]  \n",
      "2             0.5                1  [llama-3.1-8b-instant]  \n",
      "3             0.5                1  [llama-3.1-8b-instant]  \n",
      "4             0.5                1  [llama-3.1-8b-instant]  \n"
     ]
    }
   ],
   "source": [
    "# ==============================\n",
    "# Step 7: Use PlotSense (Recommendations)\n",
    "# ==============================\n",
    "# Ask PlotSense to recommend useful visualizations\n",
    "suggestions = recommender(df_encoded, n=5)\n",
    "print(\"PlotSense Recommendations:\")\n",
    "print(suggestions)\n"
   ]
  },
  {
   "cell_type": "code",
   "execution_count": 15,
   "id": "70f49735",
   "metadata": {},
   "outputs": [
    {
     "data": {
      "image/png": "[encoded data removed]",
      "text/plain": [
       "<Figure size 1200x800 with 1 Axes>"
      ]
     },
     "metadata": {},
     "output_type": "display_data"
    }
   ],
   "source": [
    "# ==============================\n",
    "# Step 8: Generate Visualization\n",
    "# ==============================\n",
    "# Select the first suggestion (index 0)\n",
    "plot = plotgen(df_encoded, 0, suggestions)\n",
    "plt.show()\n"
   ]
  },
  {
   "cell_type": "code",
   "execution_count": 16,
   "id": "a7bb7742",
   "metadata": {},
   "outputs": [
    {
     "name": "stdout",
     "output_type": "stream",
     "text": [
      "Explanation from PlotSense:\n",
      " ## Explanation of the Data Visualization\n",
      "\n",
      "### Overview\n",
      "The provided data visualization is a stacked histogram titled \"Histogram of deg-malig by target.\" It displays the distribution of \"deg-malig\" values across two target categories (0 and 1), represented by colors (blue for 0 and orange for 1). The histogram shows the frequency of \"deg-malig\" values on the y-axis, ranging from 0 to 100, and the \"deg-malig\" values on the x-axis, divided into intervals: approximately 1.00-1.25, 1.75-2.25, and 2.75-3.00.\n",
      "\n",
      "### Key Features\n",
      "- **Distribution of deg-malig**: The histogram illustrates the distribution of \"deg-malig\" values across three distinct intervals.\n",
      "  - For category 0 (blue), the frequencies are approximately 58, 100, and 2, respectively.\n",
      "  - For category 1 (orange), the frequencies are approximately 13, 28, and 43, respectively.\n",
      "\n",
      "### Insights and Patterns\n",
      "- **Bimodal Distribution for Category 0**: The blue bars indicate that for category 0, \"deg-malig\" values are concentrated in two intervals: around 1.00-1.25 and 1.75-2.25, with a total frequency of 158 (58 + 100). \n",
      "- **Skewed Distribution for Category 1**: The orange bars show that for category 1, \"deg-malig\" values are predominantly in the higher intervals, especially around 2.75-3.00, with a frequency of 43.\n",
      "\n",
      "### Statistical Insights\n",
      "- **Mean \"deg-malig\" for Category 0**: Approximately 1.64\n",
      "- **Mean \"deg-malig\" for Category 1**: Approximately 2.32\n",
      "\n",
      "### Conclusion\n",
      "The histogram reveals distinct patterns for each target category, with category 0 associated with lower \"deg-malig\" values and category 1 with higher \"deg-malig\" values. These findings suggest a potential positive correlation between \"deg-malig\" and the target variable, which can inform predictive modeling and data-driven decision-making.\n",
      "\n",
      "The best answer is: $\\boxed{0}$\n"
     ]
    }
   ],
   "source": [
    "# ==============================\n",
    "# Step 9: Explain the Visualization\n",
    "# ==============================\n",
    "explanation = explainer(plot)\n",
    "print(\"Explanation from PlotSense:\\n\", explanation)\n"
   ]
  }
 ],
 "metadata": {
  "kernelspec": {
   "display_name": "Python 3",
   "language": "python",
   "name": "python3"
  },
  "language_info": {
   "codemirror_mode": {
    "name": "ipython",
    "version": 3
   },
   "file_extension": ".py",
   "mimetype": "text/x-python",
   "name": "python",
   "nbconvert_exporter": "python",
   "pygments_lexer": "ipython3",
   "version": "3.11.9"
  }
 },
 "nbformat": 4,
 "nbformat_minor": 5
}
