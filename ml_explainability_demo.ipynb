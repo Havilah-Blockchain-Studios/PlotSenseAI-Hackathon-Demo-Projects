{
 "cells": [
  {
   "cell_type": "code",
   "execution_count": null,
   "id": "0c2322cd",
   "metadata": {},
   "outputs": [],
   "source": [
    "!pip install scikit-learn pandas matplotlib plotsense"
   ]
  }
 ],
 "metadata": {
  "language_info": {
   "name": "python"
  }
 },
 "nbformat": 4,
 "nbformat_minor": 5
}
